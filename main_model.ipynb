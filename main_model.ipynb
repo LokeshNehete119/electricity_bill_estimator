{
 "cells": [
  {
   "cell_type": "code",
   "execution_count": 1,
   "id": "7896d787-1ce2-4be8-bd89-64101038e618",
   "metadata": {},
   "outputs": [],
   "source": [
    "import numpy as np\n",
    "import pandas as pd\n",
    "import matplotlib.pyplot as plt\n",
    "import seaborn as sns"
   ]
  },
  {
   "cell_type": "code",
   "execution_count": 2,
   "id": "2445736a-aa99-4b8d-9b09-61bb806235b2",
   "metadata": {},
   "outputs": [
    {
     "name": "stdout",
     "output_type": "stream",
     "text": [
      "1.5.1\n"
     ]
    }
   ],
   "source": [
    "import sklearn\n",
    "print(sklearn.__version__)"
   ]
  },
  {
   "cell_type": "code",
   "execution_count": 4,
   "id": "56e2221d-4969-45a1-9f87-c89bc795feb1",
   "metadata": {},
   "outputs": [
    {
     "data": {
      "text/html": [
       "<div>\n",
       "<style scoped>\n",
       "    .dataframe tbody tr th:only-of-type {\n",
       "        vertical-align: middle;\n",
       "    }\n",
       "\n",
       "    .dataframe tbody tr th {\n",
       "        vertical-align: top;\n",
       "    }\n",
       "\n",
       "    .dataframe thead th {\n",
       "        text-align: right;\n",
       "    }\n",
       "</style>\n",
       "<table border=\"1\" class=\"dataframe\">\n",
       "  <thead>\n",
       "    <tr style=\"text-align: right;\">\n",
       "      <th></th>\n",
       "      <th>Fan</th>\n",
       "      <th>Refrigerator</th>\n",
       "      <th>AirConditioner</th>\n",
       "      <th>Television</th>\n",
       "      <th>Monitor</th>\n",
       "      <th>Month</th>\n",
       "      <th>City</th>\n",
       "      <th>Company</th>\n",
       "      <th>TariffRate</th>\n",
       "      <th>ElectricityBill</th>\n",
       "    </tr>\n",
       "  </thead>\n",
       "  <tbody>\n",
       "    <tr>\n",
       "      <th>0</th>\n",
       "      <td>16</td>\n",
       "      <td>23</td>\n",
       "      <td>2</td>\n",
       "      <td>6</td>\n",
       "      <td>1</td>\n",
       "      <td>10</td>\n",
       "      <td>Hyderabad</td>\n",
       "      <td>Tata Power Company Ltd.</td>\n",
       "      <td>8.4</td>\n",
       "      <td>3225.6</td>\n",
       "    </tr>\n",
       "    <tr>\n",
       "      <th>1</th>\n",
       "      <td>19</td>\n",
       "      <td>22</td>\n",
       "      <td>2</td>\n",
       "      <td>3</td>\n",
       "      <td>1</td>\n",
       "      <td>5</td>\n",
       "      <td>Vadodara</td>\n",
       "      <td>NHPC</td>\n",
       "      <td>7.8</td>\n",
       "      <td>3806.4</td>\n",
       "    </tr>\n",
       "    <tr>\n",
       "      <th>2</th>\n",
       "      <td>7</td>\n",
       "      <td>20</td>\n",
       "      <td>2</td>\n",
       "      <td>6</td>\n",
       "      <td>7</td>\n",
       "      <td>7</td>\n",
       "      <td>Shimla</td>\n",
       "      <td>Jyoti Structure</td>\n",
       "      <td>7.7</td>\n",
       "      <td>3203.2</td>\n",
       "    </tr>\n",
       "    <tr>\n",
       "      <th>3</th>\n",
       "      <td>7</td>\n",
       "      <td>22</td>\n",
       "      <td>3</td>\n",
       "      <td>21</td>\n",
       "      <td>1</td>\n",
       "      <td>6</td>\n",
       "      <td>Mumbai</td>\n",
       "      <td>Power Grid Corp</td>\n",
       "      <td>9.2</td>\n",
       "      <td>4370.0</td>\n",
       "    </tr>\n",
       "    <tr>\n",
       "      <th>4</th>\n",
       "      <td>11</td>\n",
       "      <td>23</td>\n",
       "      <td>2</td>\n",
       "      <td>11</td>\n",
       "      <td>1</td>\n",
       "      <td>2</td>\n",
       "      <td>Mumbai</td>\n",
       "      <td>Ratnagiri Gas and Power Pvt. Ltd. (RGPPL)</td>\n",
       "      <td>9.2</td>\n",
       "      <td>4204.4</td>\n",
       "    </tr>\n",
       "  </tbody>\n",
       "</table>\n",
       "</div>"
      ],
      "text/plain": [
       "   Fan  Refrigerator  AirConditioner  Television  Monitor  Month       City  \\\n",
       "0   16            23               2           6        1     10  Hyderabad   \n",
       "1   19            22               2           3        1      5   Vadodara   \n",
       "2    7            20               2           6        7      7     Shimla   \n",
       "3    7            22               3          21        1      6     Mumbai   \n",
       "4   11            23               2          11        1      2     Mumbai   \n",
       "\n",
       "                                     Company  TariffRate  ElectricityBill  \n",
       "0                    Tata Power Company Ltd.         8.4           3225.6  \n",
       "1                                       NHPC         7.8           3806.4  \n",
       "2                            Jyoti Structure         7.7           3203.2  \n",
       "3                            Power Grid Corp         9.2           4370.0  \n",
       "4  Ratnagiri Gas and Power Pvt. Ltd. (RGPPL)         9.2           4204.4  "
      ]
     },
     "execution_count": 4,
     "metadata": {},
     "output_type": "execute_result"
    }
   ],
   "source": [
    "df = pd.read_csv('data/electricity_bill_dataset.csv')\n",
    "df.head()"
   ]
  },
  {
   "cell_type": "code",
   "execution_count": 5,
   "id": "8aa60be7-9813-4288-bc09-caa2d2684e4c",
   "metadata": {},
   "outputs": [
    {
     "data": {
      "text/html": [
       "<div>\n",
       "<style scoped>\n",
       "    .dataframe tbody tr th:only-of-type {\n",
       "        vertical-align: middle;\n",
       "    }\n",
       "\n",
       "    .dataframe tbody tr th {\n",
       "        vertical-align: top;\n",
       "    }\n",
       "\n",
       "    .dataframe thead th {\n",
       "        text-align: right;\n",
       "    }\n",
       "</style>\n",
       "<table border=\"1\" class=\"dataframe\">\n",
       "  <thead>\n",
       "    <tr style=\"text-align: right;\">\n",
       "      <th></th>\n",
       "      <th>Fan</th>\n",
       "      <th>Refrigerator</th>\n",
       "      <th>AirConditioner</th>\n",
       "      <th>Television</th>\n",
       "      <th>Monitor</th>\n",
       "      <th>Month</th>\n",
       "      <th>TariffRate</th>\n",
       "      <th>ElectricityBill</th>\n",
       "      <th>Total</th>\n",
       "    </tr>\n",
       "  </thead>\n",
       "  <tbody>\n",
       "    <tr>\n",
       "      <th>0</th>\n",
       "      <td>16</td>\n",
       "      <td>23</td>\n",
       "      <td>2</td>\n",
       "      <td>6</td>\n",
       "      <td>1</td>\n",
       "      <td>10</td>\n",
       "      <td>8.4</td>\n",
       "      <td>3225.6</td>\n",
       "      <td>48</td>\n",
       "    </tr>\n",
       "    <tr>\n",
       "      <th>1</th>\n",
       "      <td>19</td>\n",
       "      <td>22</td>\n",
       "      <td>2</td>\n",
       "      <td>3</td>\n",
       "      <td>1</td>\n",
       "      <td>5</td>\n",
       "      <td>7.8</td>\n",
       "      <td>3806.4</td>\n",
       "      <td>47</td>\n",
       "    </tr>\n",
       "    <tr>\n",
       "      <th>2</th>\n",
       "      <td>7</td>\n",
       "      <td>20</td>\n",
       "      <td>2</td>\n",
       "      <td>6</td>\n",
       "      <td>7</td>\n",
       "      <td>7</td>\n",
       "      <td>7.7</td>\n",
       "      <td>3203.2</td>\n",
       "      <td>42</td>\n",
       "    </tr>\n",
       "    <tr>\n",
       "      <th>3</th>\n",
       "      <td>7</td>\n",
       "      <td>22</td>\n",
       "      <td>3</td>\n",
       "      <td>21</td>\n",
       "      <td>1</td>\n",
       "      <td>6</td>\n",
       "      <td>9.2</td>\n",
       "      <td>4370.0</td>\n",
       "      <td>54</td>\n",
       "    </tr>\n",
       "    <tr>\n",
       "      <th>4</th>\n",
       "      <td>11</td>\n",
       "      <td>23</td>\n",
       "      <td>2</td>\n",
       "      <td>11</td>\n",
       "      <td>1</td>\n",
       "      <td>2</td>\n",
       "      <td>9.2</td>\n",
       "      <td>4204.4</td>\n",
       "      <td>48</td>\n",
       "    </tr>\n",
       "  </tbody>\n",
       "</table>\n",
       "</div>"
      ],
      "text/plain": [
       "   Fan  Refrigerator  AirConditioner  Television  Monitor  Month  TariffRate  \\\n",
       "0   16            23               2           6        1     10         8.4   \n",
       "1   19            22               2           3        1      5         7.8   \n",
       "2    7            20               2           6        7      7         7.7   \n",
       "3    7            22               3          21        1      6         9.2   \n",
       "4   11            23               2          11        1      2         9.2   \n",
       "\n",
       "   ElectricityBill  Total  \n",
       "0           3225.6     48  \n",
       "1           3806.4     47  \n",
       "2           3203.2     42  \n",
       "3           4370.0     54  \n",
       "4           4204.4     48  "
      ]
     },
     "execution_count": 5,
     "metadata": {},
     "output_type": "execute_result"
    }
   ],
   "source": [
    "df.drop(['City', 'Company'], axis=1, inplace=True)\n",
    "df['Total'] = df['Fan']+df['Refrigerator']+df['AirConditioner']+df['Television']+df['Monitor']\n",
    "df.head()"
   ]
  },
  {
   "cell_type": "code",
   "execution_count": 6,
   "id": "d08fad9c-08be-4b32-a4cc-0741761d2419",
   "metadata": {},
   "outputs": [
    {
     "data": {
      "image/png": "[encoded data removed]",
      "text/plain": [
       "<Figure size 1000x800 with 2 Axes>"
      ]
     },
     "metadata": {},
     "output_type": "display_data"
    }
   ],
   "source": [
    "numeric_df = df.select_dtypes(include='number')\n",
    "\n",
    "# Computing correlation matrix\n",
    "corr_matrix = numeric_df.corr()\n",
    "\n",
    "# Plotting heatmap\n",
    "plt.figure(figsize=(10, 8))\n",
    "sns.heatmap(corr_matrix, annot=True, fmt='.2f', cmap='coolwarm', square=True)\n",
    "plt.title('Correlation Matrix Heatmap')\n",
    "plt.tight_layout()\n",
    "plt.show()"
   ]
  },
  {
   "cell_type": "code",
   "execution_count": 7,
   "id": "c4d694e5-4b8f-4f68-aa38-370cdddde48d",
   "metadata": {},
   "outputs": [
    {
     "data": {
      "text/plain": [
       "(45345, 9)"
      ]
     },
     "execution_count": 7,
     "metadata": {},
     "output_type": "execute_result"
    }
   ],
   "source": [
    "df.shape"
   ]
  },
  {
   "cell_type": "code",
   "execution_count": 8,
   "id": "417199a8-e832-4d8f-89be-fbb97bf24d90",
   "metadata": {},
   "outputs": [
    {
     "data": {
      "text/plain": [
       "(45345, 9)"
      ]
     },
     "execution_count": 8,
     "metadata": {},
     "output_type": "execute_result"
    }
   ],
   "source": [
    "# Eliminating Outliers by IQR analysis\n",
    "\n",
    "def remove_outliers_iqr(data, columns):\n",
    "    for col in columns:\n",
    "        Q1 = data[col].quantile(0.25)\n",
    "        Q3 = data[col].quantile(0.75)\n",
    "        IQR = Q3 - Q1\n",
    "        lower = Q1 - 1.5 * IQR\n",
    "        upper = Q3 + 1.5 * IQR\n",
    "        data = data[(data[col] >= lower) & (data[col] <= upper)]\n",
    "    return data\n",
    "\n",
    "numeric_cols = ['Fan', 'Refrigerator', 'AirConditioner', 'Television', 'Monitor', 'TariffRate', 'ElectricityBill']\n",
    "df_iqr = remove_outliers_iqr(df, numeric_cols)\n",
    "\n",
    "df.shape"
   ]
  },
  {
   "cell_type": "code",
   "execution_count": 9,
   "id": "3258c8c1-a221-4d59-b44e-3837f60f10a2",
   "metadata": {},
   "outputs": [],
   "source": [
    "from sklearn.model_selection import train_test_split, GridSearchCV, RandomizedSearchCV\n",
    "from sklearn.linear_model import LinearRegression\n",
    "from sklearn.ensemble import RandomForestRegressor, GradientBoostingRegressor\n",
    "from sklearn.metrics import r2_score, mean_squared_error\n",
    "\n",
    "X = df.drop('ElectricityBill', axis=1)\n",
    "y = df['ElectricityBill']\n",
    "\n",
    "X_train, X_test, y_train, y_test = train_test_split(X, y, test_size=0.2, random_state=42)"
   ]
  },
  {
   "cell_type": "code",
   "execution_count": 10,
   "id": "3a6f16c6-8fac-48b7-a62c-6603a04a2dfe",
   "metadata": {},
   "outputs": [
    {
     "name": "stdout",
     "output_type": "stream",
     "text": [
      "Linear Regression R2: 0.5785314735367129\n",
      "Linear Regression MSE: 480229.24234320794\n",
      "Random Forest R2: 0.5336550100461115\n",
      "Random Forest MSE: 531362.3370062358\n",
      "Gradient Boosting R2: 0.590839332309022\n",
      "Gradient Boosting MSE: 466205.434343376\n"
     ]
    }
   ],
   "source": [
    "LR = LinearRegression()\n",
    "LR.fit(X_train, y_train)\n",
    "pred_lr = LR.predict(X_test)\n",
    "print(\"Linear Regression R2:\", r2_score(y_test, pred_lr))\n",
    "print(\"Linear Regression MSE:\", mean_squared_error(y_test, pred_lr))\n",
    "\n",
    "RF = RandomForestRegressor(random_state=42)\n",
    "RF.fit(X_train, y_train)\n",
    "pred_rf = RF.predict(X_test)\n",
    "print(\"Random Forest R2:\", r2_score(y_test, pred_rf))\n",
    "print(\"Random Forest MSE:\", mean_squared_error(y_test, pred_rf))\n",
    "\n",
    "GB = GradientBoostingRegressor(random_state=42)\n",
    "GB.fit(X_train, y_train)\n",
    "pred_gb = GB.predict(X_test)\n",
    "print(\"Gradient Boosting R2:\", r2_score(y_test, pred_gb))\n",
    "print(\"Gradient Boosting MSE:\", mean_squared_error(y_test, pred_gb))"
   ]
  },
  {
   "cell_type": "code",
   "execution_count": 11,
   "id": "fac63371-4dca-4c9b-87a8-b76572ef80d1",
   "metadata": {},
   "outputs": [
    {
     "name": "stdout",
     "output_type": "stream",
     "text": [
      "Best Parameters (GridSearchCV): {'learning_rate': 0.1, 'max_depth': 2, 'n_estimators': 300}\n",
      "GB (GridSearchCV) R2: 0.5947663717208312\n",
      "GB (GridSearchCV) MSE: 461730.8910667754\n"
     ]
    }
   ],
   "source": [
    "# Hyperparameter Tuning on GradientBoostingRegressor \n",
    "\n",
    "from sklearn.model_selection import GridSearchCV, RandomizedSearchCV\n",
    "GB = GradientBoostingRegressor(random_state=42)\n",
    "\n",
    "# Applying GridSearchCV\n",
    "grid_params = {\n",
    "    'n_estimators': [250, 300, 350, 400],\n",
    "    'learning_rate': [0.01, 0.1, 0.2],\n",
    "    'max_depth': [2, 3, 4]\n",
    "}\n",
    "\n",
    "grid_search = GridSearchCV(GB, grid_params, cv=2)\n",
    "grid_search.fit(X_train, y_train)\n",
    "GB = grid_search.best_estimator_\n",
    "print(\"Best Parameters (GridSearchCV):\", grid_search.best_params_)\n",
    "pred_gb_grid = GB.predict(X_test)\n",
    "print(\"GB (GridSearchCV) R2:\", r2_score(y_test, pred_gb_grid))\n",
    "print(\"GB (GridSearchCV) MSE:\", mean_squared_error(y_test, pred_gb_grid))\n"
   ]
  },
  {
   "cell_type": "code",
   "execution_count": null,
   "id": "f9560c7f-0bb4-4eb8-9fe6-b05e721244d9",
   "metadata": {},
   "outputs": [],
   "source": [
    "# Applying RandomizedSearchCV\n",
    "\n",
    "random_params = {\n",
    "    'n_estimators': [200, 250, 350],\n",
    "    'learning_rate': [0.01, 0.05, 0.1, 0.2],\n",
    "    'max_depth': [2, 3, 4, 5],\n",
    "    'subsample': [0.6, 0.8, 1.0],\n",
    "    'min_samples_split': [2, 4, 6]\n",
    "}\n",
    "\n",
    "random_search = RandomizedSearchCV(GB, random_params, n_iter=10, cv=2, random_state=42)\n",
    "random_search.fit(X_train, y_train)\n",
    "GB = random_search.best_estimator_\n",
    "print(\"Best Parameters (RandomizedSearchCV):\", random_search.best_params_)\n",
    "pred_gb_random = GB.predict(X_test)\n",
    "print(\"GB (RandomizedSearchCV) R2:\", r2_score(y_test, pred_gb_random))\n",
    "print(\"GB (RandomizedSearchCV) MSE:\", mean_squared_error(y_test, pred_gb_random))"
   ]
  },
  {
   "cell_type": "code",
   "execution_count": null,
   "id": "5c0a9964-eed4-4881-8e9d-9d54814c37cd",
   "metadata": {},
   "outputs": [],
   "source": [
    "# Declaring tuned GradientBoostingRegressor with GridSearchCV as final model while also assigning it to a variable\n",
    "final_model = grid_search.best_estimator_"
   ]
  },
  {
   "cell_type": "code",
   "execution_count": null,
   "id": "5a3520ea-94e3-4f0e-9095-338abe8fd82e",
   "metadata": {},
   "outputs": [],
   "source": [
    "plt.figure(figsize=(6, 6))\n",
    "plt.scatter(y_test, pred_gb_grid, alpha=0.4, color=\"green\")\n",
    "plt.plot([y_test.min(), y_test.max()], [y_test.min(), y_test.max()], 'r--')\n",
    "plt.xlabel(\"Actual\")\n",
    "plt.ylabel(\"Predicted\")\n",
    "plt.title(\"Actual vs Predicted (Tuned GradientBoostingRegressor with GridSearchCV)\")\n",
    "plt.tight_layout()\n",
    "plt.show()\n"
   ]
  },
  {
   "cell_type": "code",
   "execution_count": null,
   "id": "00442162-1853-4259-b452-ce658c7ade1c",
   "metadata": {},
   "outputs": [],
   "source": [
    "importances = GB.feature_importances_\n",
    "feature_names = X.columns\n",
    "\n",
    "# Plotting distribution of each column's contribution to predict result\n",
    "\n",
    "plt.figure(figsize=(8, 6))\n",
    "plt.bar(feature_names, importances, color='skyblue')\n",
    "plt.title(\"Feature Importances (Tuned GradientBoosting with GridSearchCV)\")\n",
    "plt.xlabel(\"Features\")\n",
    "plt.ylabel(\"Importance Score\")\n",
    "plt.xticks(rotation=45)\n",
    "plt.tight_layout()\n",
    "plt.show()"
   ]
  },
  {
   "cell_type": "code",
   "execution_count": null,
   "id": "9750814e-e018-43b3-a02e-e2eaccdb1a26",
   "metadata": {},
   "outputs": [],
   "source": [
    "import joblib\n",
    "\n",
    "joblib.dump(final_model, 'best_model_gb_grid.pkl')\n"
   ]
  },
  {
   "cell_type": "code",
   "execution_count": null,
   "id": "47cf829c-ded3-412a-b166-6ce7e528b937",
   "metadata": {},
   "outputs": [],
   "source": [
    "loaded_model = joblib.load('best_model_gb_grid.pkl')\n",
    "pred_loaded = loaded_model.predict(X_test)\n",
    "print(\"Loaded model R²:\", r2_score(y_test, pred_loaded))"
   ]
  },
  {
   "cell_type": "code",
   "execution_count": null,
   "id": "9ee2db57-449f-4448-8231-bbb09a3050c7",
   "metadata": {},
   "outputs": [],
   "source": [
    "# Tesing on sample input\n",
    "\n",
    "user_input = {\n",
    "    'Fan': [20],\n",
    "    'Refrigerator': [21],\n",
    "    'AirConditioner': [0],\n",
    "    'Television': [3],\n",
    "    'Monitor': [4],\n",
    "    'Month': [7],\n",
    "    'TariffRate': [5.3]\n",
    "}\n",
    "\n",
    "# Convert to DataFrame\n",
    "user_df = pd.DataFrame(user_input)\n",
    "user_df['Total'] = user_df[['Fan', 'Refrigerator', 'AirConditioner', 'Television', 'Monitor']].sum(axis=1)\n",
    "\n",
    "# Predict using the loaded model\n",
    "predicted_bill = loaded_model.predict(user_df)\n",
    "print(\"Predicted Electricity Bill:\", predicted_bill[0])\n"
   ]
  },
  {
   "cell_type": "code",
   "execution_count": null,
   "id": "cfc4a80c-a4f0-4756-8dfa-e8f2b8540645",
   "metadata": {},
   "outputs": [],
   "source": [
    "!pip install gradio\n"
   ]
  },
  {
   "cell_type": "code",
   "execution_count": null,
   "id": "7f2627ab-0d6a-4e6b-8907-1021fb9a6590",
   "metadata": {},
   "outputs": [],
   "source": [
    "import gradio as gr\n",
    "model = joblib.load('best_model_gb_grid.pkl')\n",
    "\n",
    "# Define prediction function with all 7 inputs\n",
    "def predict_bill(fan, refrigerator, ac, tv, monitor, month, tariff_rate):\n",
    "    if month == 0:\n",
    "        return \"⚠️ Please select the month.\"\n",
    "    total = fan + refrigerator + ac + tv + monitor\n",
    "    if fan == 0 and refrigerator == 0 and ac == 0 and tv == 0 and monitor == 0:\n",
    "        return \"⚠️ Please turn on at least one appliance.\"\n",
    "\n",
    "# Using a numpy array to store input values and total\n",
    "    input_array = np.array([[fan, refrigerator, ac, tv, monitor, month, tariff_rate,total]])\n",
    "    prediction = model.predict(input_array)\n",
    "    return f\"Predicted Electricity Bill: ₹{prediction[0]:.2f}\"\n",
    "\n",
    "# Build the Gradio interface\n",
    "interface = gr.Interface(\n",
    "    fn=predict_bill,\n",
    "    inputs=[\n",
    "        gr.Number(label=\"Fan (Hours/Day)\"),\n",
    "        gr.Number(label=\"Refrigerator (Hours/Day)\"),\n",
    "        gr.Number(label=\"Air Conditioner (Hours/Day)\"),\n",
    "        gr.Number(label=\"Television (Hours/Day)\"),\n",
    "        gr.Number(label=\"Monitor (Hours/Day)\"),\n",
    "        gr.Number(label=\"Month (1 to 12)\"),\n",
    "        gr.Number(label=\"Tariff Rate (₹ per Unit)\"),\n",
    "    ],\n",
    "    outputs=gr.Textbox(label=\"Estimated Monthly Electricity Bill\"),\n",
    "    title=\"Electricity Bill Estimator\",\n",
    "    description=\"Enter appliance usage, month, and tariff rate to estimate your electricity bill\"\n",
    ")\n",
    "\n",
    "# Launch the app\n",
    "interface.launch()\n"
   ]
  },
  {
   "cell_type": "code",
   "execution_count": null,
   "id": "c3e7c075-7021-4f44-863e-3e1c1c9e8f4a",
   "metadata": {},
   "outputs": [],
   "source": [
    "interface.launch(share=True)"
   ]
  },
  {
   "cell_type": "code",
   "execution_count": null,
   "id": "31f18603-510d-4552-980e-339209909406",
   "metadata": {},
   "outputs": [],
   "source": []
  }
 ],
 "metadata": {
  "kernelspec": {
   "display_name": "Python [conda env:base] *",
   "language": "python",
   "name": "conda-base-py"
  },
  "language_info": {
   "codemirror_mode": {
    "name": "ipython",
    "version": 3
   },
   "file_extension": ".py",
   "mimetype": "text/x-python",
   "name": "python",
   "nbconvert_exporter": "python",
   "pygments_lexer": "ipython3",
   "version": "3.12.7"
  }
 },
 "nbformat": 4,
 "nbformat_minor": 5
}
